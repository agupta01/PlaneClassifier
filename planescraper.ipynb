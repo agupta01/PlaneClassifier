{
 "cells": [
  {
   "cell_type": "code",
   "execution_count": 41,
   "metadata": {},
   "outputs": [],
   "source": [
    "import requests\n",
    "import requests\n",
    "import shutil\n",
    "import time\n",
    "import csv\n",
    "import pandas\n",
    "from tqdm import tqdm\n",
    "from bs4 import BeautifulSoup as bs"
   ]
  },
  {
   "cell_type": "markdown",
   "metadata": {},
   "source": [
    "I chose to only use photos from KLAS (Las Vegas McCarran) because their designated planespotting location means most of the photos depict profile shots of the aircraft. This makes the dataset far more homogenous and less prone to error from \"odd\" photos."
   ]
  },
  {
   "cell_type": "code",
   "execution_count": null,
   "metadata": {},
   "outputs": [],
   "source": [
    "# The code to download Boeing jet photo URLs\n",
    "url = \"https://www.jetphotos.com/showphotos.php?aircraft=all&airline=all&country-location=location%253BLas%2520Vegas%2520McCarran%2520Int%27l%2520Airport%2520-%2520KLAS&photographer-group=all&category=all&keywords-type=aircraft&keywords-contain=3&keywords=Boeing&photo-year=all&genre=all&search-type=Advanced&sort-order=0&page=\"\n",
    "pageIndex = list(range(2,51))\n",
    "with open('raw_Data_Boeing.csv', mode='w') as file:\n",
    "    data_writer = csv.writer(file, delimiter=',', quotechar='\"', quoting=csv.QUOTE_MINIMAL)\n",
    "    for x in tqdm(pageIndex):\n",
    "        response = requests.get(url + str(x))\n",
    "        soup = bs(response.text, 'html.parser')\n",
    "        for i in range(0, len(soup.findAll(class_=\"result__photo\"))):\n",
    "            tag = soup.findAll(class_=\"result__photo\")[i]\n",
    "            link = tag['src']\n",
    "            data_writer.writerow([\"https:\" + link])\n",
    "        print(\"Page \" + str(x) + \" complete!\")\n",
    "    print(\"Done!\")"
   ]
  },
  {
   "cell_type": "code",
   "execution_count": null,
   "metadata": {},
   "outputs": [],
   "source": [
    "# The code to download Airbus jet photo URLs\n",
    "url = \"https://www.jetphotos.com/showphotos.php?aircraft=all&airline=all&country-location=location%253BLas%2520Vegas%2520McCarran%2520Int%27l%2520Airport%2520-%2520KLAS&photographer-group=all&category=all&keywords-type=aircraft&keywords-contain=3&keywords=Airbus&photo-year=all&genre=all&search-type=Advanced&sort-order=0&page=\"\n",
    "pageIndex = list(range(2,51))\n",
    "with open('raw_Data_Airbus.csv', mode='w') as file:\n",
    "    data_writer = csv.writer(file, delimiter=',', quotechar='\"', quoting=csv.QUOTE_MINIMAL)\n",
    "    for x in tqdm(pageIndex):\n",
    "        response = requests.get(url + str(x))\n",
    "        soup = bs(response.text, 'html.parser')\n",
    "        for i in range(0, len(soup.findAll(class_=\"result__photo\"))):\n",
    "            tag = soup.findAll(class_=\"result__photo\")[i]\n",
    "            link = tag['src']\n",
    "            data_writer.writerow([\"https:\" + link])\n",
    "        print(\"Page \" + str(x) + \" complete!\")\n",
    "    print(\"Done!\")"
   ]
  },
  {
   "cell_type": "code",
   "execution_count": 43,
   "metadata": {},
   "outputs": [
    {
     "name": "stderr",
     "output_type": "stream",
     "text": [
      "100%|██████████| 2548/2548 [20:40<00:00,  2.05it/s]\n"
     ]
    }
   ],
   "source": [
    "# Read each csv and download the photos NOTE: change to match source!\n",
    "links = pandas.read_csv(\"raw_Data_Airbus.csv\", header=None)\n",
    "for i in tqdm(range(0,len(links))):\n",
    "    r = requests.get(links[0][i], stream=True)\n",
    "    filename = \"./AirbusPics/airbus\"+str(i)+\".jpg\"\n",
    "    if r.status_code == 200:\n",
    "        with open(filename, 'wb') as f:\n",
    "            r.raw.decode_content = True\n",
    "            shutil.copyfileobj(r.raw, f)"
   ]
  },
  {
   "cell_type": "code",
   "execution_count": null,
   "metadata": {},
   "outputs": [],
   "source": []
  }
 ],
 "metadata": {
  "celltoolbar": "Raw Cell Format",
  "kernelspec": {
   "display_name": "Python 3",
   "language": "python",
   "name": "python3"
  },
  "language_info": {
   "codemirror_mode": {
    "name": "ipython",
    "version": 3
   },
   "file_extension": ".py",
   "mimetype": "text/x-python",
   "name": "python",
   "nbconvert_exporter": "python",
   "pygments_lexer": "ipython3",
   "version": "3.6.5"
  }
 },
 "nbformat": 4,
 "nbformat_minor": 2
}
